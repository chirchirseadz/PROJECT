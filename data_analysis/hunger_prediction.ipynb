{
 "cells": [
  {
   "cell_type": "markdown",
   "id": "73aebed8",
   "metadata": {},
   "source": [
    "# Importing Dependencies"
   ]
  },
  {
   "cell_type": "code",
   "execution_count": 167,
   "id": "76e67240",
   "metadata": {},
   "outputs": [],
   "source": [
    "import pandas as pd\n",
    "import numpy as np\n",
    "from sklearn.preprocessing import StandardScaler\n",
    "from sklearn.model_selection  import train_test_split\n",
    "from sklearn import svm\n",
    "from sklearn.metrics import accuracy_score\n",
    "import joblib"
   ]
  },
  {
   "cell_type": "markdown",
   "id": "d1aafbfb",
   "metadata": {},
   "source": [
    "# Data Loading and analysis"
   ]
  },
  {
   "cell_type": "code",
   "execution_count": 168,
   "id": "525ab96a",
   "metadata": {},
   "outputs": [],
   "source": [
    "# Loading the hunger dataset using pandas dataframe\n",
    "\n",
    "data = pd.read_csv(\"hunger.csv\")"
   ]
  },
  {
   "cell_type": "code",
   "execution_count": 169,
   "id": "bec93451",
   "metadata": {},
   "outputs": [
    {
     "data": {
      "text/html": [
       "<div>\n",
       "<style scoped>\n",
       "    .dataframe tbody tr th:only-of-type {\n",
       "        vertical-align: middle;\n",
       "    }\n",
       "\n",
       "    .dataframe tbody tr th {\n",
       "        vertical-align: top;\n",
       "    }\n",
       "\n",
       "    .dataframe thead th {\n",
       "        text-align: right;\n",
       "    }\n",
       "</style>\n",
       "<table border=\"1\" class=\"dataframe\">\n",
       "  <thead>\n",
       "    <tr style=\"text-align: right;\">\n",
       "      <th></th>\n",
       "      <th>county</th>\n",
       "      <th>population</th>\n",
       "      <th>Area_square_km</th>\n",
       "      <th>place_max_temp(deg)</th>\n",
       "      <th>place_min_temp(deg)</th>\n",
       "      <th>humidity(%)</th>\n",
       "      <th>rainfall(mm)</th>\n",
       "      <th>precipitation(%)</th>\n",
       "      <th>fishing</th>\n",
       "      <th>outcome</th>\n",
       "    </tr>\n",
       "  </thead>\n",
       "  <tbody>\n",
       "    <tr>\n",
       "      <th>0</th>\n",
       "      <td>Mombasa</td>\n",
       "      <td>1208333</td>\n",
       "      <td>219.9</td>\n",
       "      <td>32</td>\n",
       "      <td>24.3</td>\n",
       "      <td>64</td>\n",
       "      <td>4</td>\n",
       "      <td>6</td>\n",
       "      <td>0</td>\n",
       "      <td>1</td>\n",
       "    </tr>\n",
       "    <tr>\n",
       "      <th>1</th>\n",
       "      <td>Kwale</td>\n",
       "      <td>866820</td>\n",
       "      <td>8267.1</td>\n",
       "      <td>31</td>\n",
       "      <td>24.0</td>\n",
       "      <td>45</td>\n",
       "      <td>5</td>\n",
       "      <td>5</td>\n",
       "      <td>0</td>\n",
       "      <td>1</td>\n",
       "    </tr>\n",
       "    <tr>\n",
       "      <th>2</th>\n",
       "      <td>Kilifi</td>\n",
       "      <td>1453787</td>\n",
       "      <td>12539.7</td>\n",
       "      <td>32</td>\n",
       "      <td>24.3</td>\n",
       "      <td>56</td>\n",
       "      <td>6</td>\n",
       "      <td>8</td>\n",
       "      <td>0</td>\n",
       "      <td>1</td>\n",
       "    </tr>\n",
       "    <tr>\n",
       "      <th>3</th>\n",
       "      <td>Tana River</td>\n",
       "      <td>315943</td>\n",
       "      <td>37950.5</td>\n",
       "      <td>33</td>\n",
       "      <td>24.0</td>\n",
       "      <td>39</td>\n",
       "      <td>8</td>\n",
       "      <td>9</td>\n",
       "      <td>0</td>\n",
       "      <td>1</td>\n",
       "    </tr>\n",
       "    <tr>\n",
       "      <th>4</th>\n",
       "      <td>Lamu</td>\n",
       "      <td>143920</td>\n",
       "      <td>6253.3</td>\n",
       "      <td>35</td>\n",
       "      <td>24.0</td>\n",
       "      <td>52</td>\n",
       "      <td>5</td>\n",
       "      <td>6</td>\n",
       "      <td>0</td>\n",
       "      <td>1</td>\n",
       "    </tr>\n",
       "  </tbody>\n",
       "</table>\n",
       "</div>"
      ],
      "text/plain": [
       "       county  population  Area_square_km  place_max_temp(deg)  \\\n",
       "0     Mombasa     1208333           219.9                   32   \n",
       "1       Kwale      866820          8267.1                   31   \n",
       "2      Kilifi     1453787         12539.7                   32   \n",
       "3  Tana River      315943         37950.5                   33   \n",
       "4        Lamu      143920          6253.3                   35   \n",
       "\n",
       "   place_min_temp(deg)  humidity(%)  rainfall(mm)  precipitation(%)  fishing  \\\n",
       "0                 24.3           64             4                 6        0   \n",
       "1                 24.0           45             5                 5        0   \n",
       "2                 24.3           56             6                 8        0   \n",
       "3                 24.0           39             8                 9        0   \n",
       "4                 24.0           52             5                 6        0   \n",
       "\n",
       "   outcome  \n",
       "0        1  \n",
       "1        1  \n",
       "2        1  \n",
       "3        1  \n",
       "4        1  "
      ]
     },
     "execution_count": 169,
     "metadata": {},
     "output_type": "execute_result"
    }
   ],
   "source": [
    "# printing the first five rows of the data\n",
    "\n",
    "data.head()"
   ]
  },
  {
   "cell_type": "code",
   "execution_count": 170,
   "id": "b6d0492f",
   "metadata": {},
   "outputs": [
    {
     "data": {
      "text/plain": [
       "(50, 10)"
      ]
     },
     "execution_count": 170,
     "metadata": {},
     "output_type": "execute_result"
    }
   ],
   "source": [
    "#  Number of rows and columns of the dataset\n",
    "data.shape"
   ]
  },
  {
   "cell_type": "code",
   "execution_count": 171,
   "id": "8315d659",
   "metadata": {},
   "outputs": [
    {
     "data": {
      "text/html": [
       "<div>\n",
       "<style scoped>\n",
       "    .dataframe tbody tr th:only-of-type {\n",
       "        vertical-align: middle;\n",
       "    }\n",
       "\n",
       "    .dataframe tbody tr th {\n",
       "        vertical-align: top;\n",
       "    }\n",
       "\n",
       "    .dataframe thead th {\n",
       "        text-align: right;\n",
       "    }\n",
       "</style>\n",
       "<table border=\"1\" class=\"dataframe\">\n",
       "  <thead>\n",
       "    <tr style=\"text-align: right;\">\n",
       "      <th></th>\n",
       "      <th>population</th>\n",
       "      <th>Area_square_km</th>\n",
       "      <th>place_max_temp(deg)</th>\n",
       "      <th>place_min_temp(deg)</th>\n",
       "      <th>humidity(%)</th>\n",
       "      <th>rainfall(mm)</th>\n",
       "      <th>precipitation(%)</th>\n",
       "      <th>fishing</th>\n",
       "      <th>outcome</th>\n",
       "    </tr>\n",
       "  </thead>\n",
       "  <tbody>\n",
       "    <tr>\n",
       "      <th>count</th>\n",
       "      <td>5.000000e+01</td>\n",
       "      <td>50.00000</td>\n",
       "      <td>50.000000</td>\n",
       "      <td>50.000000</td>\n",
       "      <td>50.000000</td>\n",
       "      <td>50.000000</td>\n",
       "      <td>50.000000</td>\n",
       "      <td>50.000000</td>\n",
       "      <td>50.000000</td>\n",
       "    </tr>\n",
       "    <tr>\n",
       "      <th>mean</th>\n",
       "      <td>1.019365e+06</td>\n",
       "      <td>11774.55800</td>\n",
       "      <td>30.740000</td>\n",
       "      <td>19.752000</td>\n",
       "      <td>51.360000</td>\n",
       "      <td>22.940000</td>\n",
       "      <td>13.740000</td>\n",
       "      <td>0.580000</td>\n",
       "      <td>0.620000</td>\n",
       "    </tr>\n",
       "    <tr>\n",
       "      <th>std</th>\n",
       "      <td>6.723417e+05</td>\n",
       "      <td>16987.86657</td>\n",
       "      <td>3.832248</td>\n",
       "      <td>4.292625</td>\n",
       "      <td>8.163533</td>\n",
       "      <td>15.316271</td>\n",
       "      <td>8.260578</td>\n",
       "      <td>0.498569</td>\n",
       "      <td>0.490314</td>\n",
       "    </tr>\n",
       "    <tr>\n",
       "      <th>min</th>\n",
       "      <td>1.439200e+05</td>\n",
       "      <td>219.90000</td>\n",
       "      <td>17.000000</td>\n",
       "      <td>10.000000</td>\n",
       "      <td>39.000000</td>\n",
       "      <td>4.000000</td>\n",
       "      <td>5.000000</td>\n",
       "      <td>0.000000</td>\n",
       "      <td>0.000000</td>\n",
       "    </tr>\n",
       "    <tr>\n",
       "      <th>25%</th>\n",
       "      <td>6.131185e+05</td>\n",
       "      <td>2530.07500</td>\n",
       "      <td>28.000000</td>\n",
       "      <td>17.000000</td>\n",
       "      <td>42.750000</td>\n",
       "      <td>7.250000</td>\n",
       "      <td>9.000000</td>\n",
       "      <td>0.000000</td>\n",
       "      <td>0.000000</td>\n",
       "    </tr>\n",
       "    <tr>\n",
       "      <th>50%</th>\n",
       "      <td>9.143765e+05</td>\n",
       "      <td>3219.10000</td>\n",
       "      <td>30.500000</td>\n",
       "      <td>19.000000</td>\n",
       "      <td>55.000000</td>\n",
       "      <td>32.000000</td>\n",
       "      <td>11.000000</td>\n",
       "      <td>1.000000</td>\n",
       "      <td>1.000000</td>\n",
       "    </tr>\n",
       "    <tr>\n",
       "      <th>75%</th>\n",
       "      <td>1.155574e+06</td>\n",
       "      <td>12148.87500</td>\n",
       "      <td>33.000000</td>\n",
       "      <td>24.000000</td>\n",
       "      <td>59.000000</td>\n",
       "      <td>37.000000</td>\n",
       "      <td>11.000000</td>\n",
       "      <td>1.000000</td>\n",
       "      <td>1.000000</td>\n",
       "    </tr>\n",
       "    <tr>\n",
       "      <th>max</th>\n",
       "      <td>4.397073e+06</td>\n",
       "      <td>70944.10000</td>\n",
       "      <td>38.000000</td>\n",
       "      <td>25.000000</td>\n",
       "      <td>64.000000</td>\n",
       "      <td>40.000000</td>\n",
       "      <td>28.000000</td>\n",
       "      <td>1.000000</td>\n",
       "      <td>1.000000</td>\n",
       "    </tr>\n",
       "  </tbody>\n",
       "</table>\n",
       "</div>"
      ],
      "text/plain": [
       "         population  Area_square_km  place_max_temp(deg)  place_min_temp(deg)  \\\n",
       "count  5.000000e+01        50.00000            50.000000            50.000000   \n",
       "mean   1.019365e+06     11774.55800            30.740000            19.752000   \n",
       "std    6.723417e+05     16987.86657             3.832248             4.292625   \n",
       "min    1.439200e+05       219.90000            17.000000            10.000000   \n",
       "25%    6.131185e+05      2530.07500            28.000000            17.000000   \n",
       "50%    9.143765e+05      3219.10000            30.500000            19.000000   \n",
       "75%    1.155574e+06     12148.87500            33.000000            24.000000   \n",
       "max    4.397073e+06     70944.10000            38.000000            25.000000   \n",
       "\n",
       "       humidity(%)  rainfall(mm)  precipitation(%)    fishing    outcome  \n",
       "count    50.000000     50.000000         50.000000  50.000000  50.000000  \n",
       "mean     51.360000     22.940000         13.740000   0.580000   0.620000  \n",
       "std       8.163533     15.316271          8.260578   0.498569   0.490314  \n",
       "min      39.000000      4.000000          5.000000   0.000000   0.000000  \n",
       "25%      42.750000      7.250000          9.000000   0.000000   0.000000  \n",
       "50%      55.000000     32.000000         11.000000   1.000000   1.000000  \n",
       "75%      59.000000     37.000000         11.000000   1.000000   1.000000  \n",
       "max      64.000000     40.000000         28.000000   1.000000   1.000000  "
      ]
     },
     "execution_count": 171,
     "metadata": {},
     "output_type": "execute_result"
    }
   ],
   "source": [
    "# Getting the statistical measures of the data\n",
    "\n",
    "data.describe()"
   ]
  },
  {
   "cell_type": "code",
   "execution_count": 172,
   "id": "319fac66",
   "metadata": {},
   "outputs": [
    {
     "data": {
      "text/html": [
       "<div>\n",
       "<style scoped>\n",
       "    .dataframe tbody tr th:only-of-type {\n",
       "        vertical-align: middle;\n",
       "    }\n",
       "\n",
       "    .dataframe tbody tr th {\n",
       "        vertical-align: top;\n",
       "    }\n",
       "\n",
       "    .dataframe thead th {\n",
       "        text-align: right;\n",
       "    }\n",
       "</style>\n",
       "<table border=\"1\" class=\"dataframe\">\n",
       "  <thead>\n",
       "    <tr style=\"text-align: right;\">\n",
       "      <th></th>\n",
       "      <th>population</th>\n",
       "      <th>Area_square_km</th>\n",
       "      <th>place_max_temp(deg)</th>\n",
       "      <th>place_min_temp(deg)</th>\n",
       "      <th>humidity(%)</th>\n",
       "      <th>rainfall(mm)</th>\n",
       "      <th>precipitation(%)</th>\n",
       "      <th>fishing</th>\n",
       "    </tr>\n",
       "    <tr>\n",
       "      <th>outcome</th>\n",
       "      <th></th>\n",
       "      <th></th>\n",
       "      <th></th>\n",
       "      <th></th>\n",
       "      <th></th>\n",
       "      <th></th>\n",
       "      <th></th>\n",
       "      <th></th>\n",
       "    </tr>\n",
       "  </thead>\n",
       "  <tbody>\n",
       "    <tr>\n",
       "      <th>0</th>\n",
       "      <td>1.021735e+06</td>\n",
       "      <td>5325.621053</td>\n",
       "      <td>28.105263</td>\n",
       "      <td>17.473684</td>\n",
       "      <td>52.210526</td>\n",
       "      <td>27.105263</td>\n",
       "      <td>10.631579</td>\n",
       "      <td>0.842105</td>\n",
       "    </tr>\n",
       "    <tr>\n",
       "      <th>1</th>\n",
       "      <td>1.017913e+06</td>\n",
       "      <td>15727.132258</td>\n",
       "      <td>32.354839</td>\n",
       "      <td>21.148387</td>\n",
       "      <td>50.838710</td>\n",
       "      <td>20.387097</td>\n",
       "      <td>15.645161</td>\n",
       "      <td>0.419355</td>\n",
       "    </tr>\n",
       "  </tbody>\n",
       "</table>\n",
       "</div>"
      ],
      "text/plain": [
       "           population  Area_square_km  place_max_temp(deg)  \\\n",
       "outcome                                                      \n",
       "0        1.021735e+06     5325.621053            28.105263   \n",
       "1        1.017913e+06    15727.132258            32.354839   \n",
       "\n",
       "         place_min_temp(deg)  humidity(%)  rainfall(mm)  precipitation(%)  \\\n",
       "outcome                                                                     \n",
       "0                  17.473684    52.210526     27.105263         10.631579   \n",
       "1                  21.148387    50.838710     20.387097         15.645161   \n",
       "\n",
       "          fishing  \n",
       "outcome            \n",
       "0        0.842105  \n",
       "1        0.419355  "
      ]
     },
     "execution_count": 172,
     "metadata": {},
     "output_type": "execute_result"
    }
   ],
   "source": [
    "#  checking the mean of those affected with hunger and those who have not \n",
    "\n",
    "data.groupby('outcome').mean()"
   ]
  },
  {
   "cell_type": "code",
   "execution_count": 173,
   "id": "c26090b2",
   "metadata": {},
   "outputs": [
    {
     "data": {
      "text/html": [
       "<div>\n",
       "<style scoped>\n",
       "    .dataframe tbody tr th:only-of-type {\n",
       "        vertical-align: middle;\n",
       "    }\n",
       "\n",
       "    .dataframe tbody tr th {\n",
       "        vertical-align: top;\n",
       "    }\n",
       "\n",
       "    .dataframe thead th {\n",
       "        text-align: right;\n",
       "    }\n",
       "</style>\n",
       "<table border=\"1\" class=\"dataframe\">\n",
       "  <thead>\n",
       "    <tr style=\"text-align: right;\">\n",
       "      <th></th>\n",
       "      <th>population</th>\n",
       "      <th>Area_square_km</th>\n",
       "      <th>place_max_temp(deg)</th>\n",
       "      <th>place_min_temp(deg)</th>\n",
       "      <th>humidity(%)</th>\n",
       "      <th>rainfall(mm)</th>\n",
       "      <th>precipitation(%)</th>\n",
       "      <th>fishing</th>\n",
       "    </tr>\n",
       "  </thead>\n",
       "  <tbody>\n",
       "    <tr>\n",
       "      <th>0</th>\n",
       "      <td>1208333</td>\n",
       "      <td>219.9</td>\n",
       "      <td>32</td>\n",
       "      <td>24.3</td>\n",
       "      <td>64</td>\n",
       "      <td>4</td>\n",
       "      <td>6</td>\n",
       "      <td>0</td>\n",
       "    </tr>\n",
       "    <tr>\n",
       "      <th>1</th>\n",
       "      <td>866820</td>\n",
       "      <td>8267.1</td>\n",
       "      <td>31</td>\n",
       "      <td>24.0</td>\n",
       "      <td>45</td>\n",
       "      <td>5</td>\n",
       "      <td>5</td>\n",
       "      <td>0</td>\n",
       "    </tr>\n",
       "    <tr>\n",
       "      <th>2</th>\n",
       "      <td>1453787</td>\n",
       "      <td>12539.7</td>\n",
       "      <td>32</td>\n",
       "      <td>24.3</td>\n",
       "      <td>56</td>\n",
       "      <td>6</td>\n",
       "      <td>8</td>\n",
       "      <td>0</td>\n",
       "    </tr>\n",
       "    <tr>\n",
       "      <th>3</th>\n",
       "      <td>315943</td>\n",
       "      <td>37950.5</td>\n",
       "      <td>33</td>\n",
       "      <td>24.0</td>\n",
       "      <td>39</td>\n",
       "      <td>8</td>\n",
       "      <td>9</td>\n",
       "      <td>0</td>\n",
       "    </tr>\n",
       "    <tr>\n",
       "      <th>4</th>\n",
       "      <td>143920</td>\n",
       "      <td>6253.3</td>\n",
       "      <td>35</td>\n",
       "      <td>24.0</td>\n",
       "      <td>52</td>\n",
       "      <td>5</td>\n",
       "      <td>6</td>\n",
       "      <td>0</td>\n",
       "    </tr>\n",
       "  </tbody>\n",
       "</table>\n",
       "</div>"
      ],
      "text/plain": [
       "   population  Area_square_km  place_max_temp(deg)  place_min_temp(deg)  \\\n",
       "0     1208333           219.9                   32                 24.3   \n",
       "1      866820          8267.1                   31                 24.0   \n",
       "2     1453787         12539.7                   32                 24.3   \n",
       "3      315943         37950.5                   33                 24.0   \n",
       "4      143920          6253.3                   35                 24.0   \n",
       "\n",
       "   humidity(%)  rainfall(mm)  precipitation(%)  fishing  \n",
       "0           64             4                 6        0  \n",
       "1           45             5                 5        0  \n",
       "2           56             6                 8        0  \n",
       "3           39             8                 9        0  \n",
       "4           52             5                 6        0  "
      ]
     },
     "execution_count": 173,
     "metadata": {},
     "output_type": "execute_result"
    }
   ],
   "source": [
    "\"\"\"\n",
    "separating data data variables i.e independent variable (y) dependent \n",
    "and Dependent variables (y)\n",
    "\"\"\"\n",
    "x = data.drop(columns=['outcome', 'county'], axis=1)\n",
    "x.head()"
   ]
  },
  {
   "cell_type": "code",
   "execution_count": 174,
   "id": "08cce20d",
   "metadata": {},
   "outputs": [
    {
     "data": {
      "text/plain": [
       "0    1\n",
       "1    1\n",
       "2    1\n",
       "3    1\n",
       "4    1\n",
       "Name: outcome, dtype: int64"
      ]
     },
     "execution_count": 174,
     "metadata": {},
     "output_type": "execute_result"
    }
   ],
   "source": [
    "y = data['outcome']\n",
    "y.head()"
   ]
  },
  {
   "cell_type": "markdown",
   "id": "0713f897",
   "metadata": {},
   "source": [
    "# Data Standardization"
   ]
  },
  {
   "cell_type": "code",
   "execution_count": 175,
   "id": "8afb1ce4",
   "metadata": {},
   "outputs": [
    {
     "data": {
      "text/html": [
       "<style>#sk-container-id-22 {color: black;background-color: white;}#sk-container-id-22 pre{padding: 0;}#sk-container-id-22 div.sk-toggleable {background-color: white;}#sk-container-id-22 label.sk-toggleable__label {cursor: pointer;display: block;width: 100%;margin-bottom: 0;padding: 0.3em;box-sizing: border-box;text-align: center;}#sk-container-id-22 label.sk-toggleable__label-arrow:before {content: \"▸\";float: left;margin-right: 0.25em;color: #696969;}#sk-container-id-22 label.sk-toggleable__label-arrow:hover:before {color: black;}#sk-container-id-22 div.sk-estimator:hover label.sk-toggleable__label-arrow:before {color: black;}#sk-container-id-22 div.sk-toggleable__content {max-height: 0;max-width: 0;overflow: hidden;text-align: left;background-color: #f0f8ff;}#sk-container-id-22 div.sk-toggleable__content pre {margin: 0.2em;color: black;border-radius: 0.25em;background-color: #f0f8ff;}#sk-container-id-22 input.sk-toggleable__control:checked~div.sk-toggleable__content {max-height: 200px;max-width: 100%;overflow: auto;}#sk-container-id-22 input.sk-toggleable__control:checked~label.sk-toggleable__label-arrow:before {content: \"▾\";}#sk-container-id-22 div.sk-estimator input.sk-toggleable__control:checked~label.sk-toggleable__label {background-color: #d4ebff;}#sk-container-id-22 div.sk-label input.sk-toggleable__control:checked~label.sk-toggleable__label {background-color: #d4ebff;}#sk-container-id-22 input.sk-hidden--visually {border: 0;clip: rect(1px 1px 1px 1px);clip: rect(1px, 1px, 1px, 1px);height: 1px;margin: -1px;overflow: hidden;padding: 0;position: absolute;width: 1px;}#sk-container-id-22 div.sk-estimator {font-family: monospace;background-color: #f0f8ff;border: 1px dotted black;border-radius: 0.25em;box-sizing: border-box;margin-bottom: 0.5em;}#sk-container-id-22 div.sk-estimator:hover {background-color: #d4ebff;}#sk-container-id-22 div.sk-parallel-item::after {content: \"\";width: 100%;border-bottom: 1px solid gray;flex-grow: 1;}#sk-container-id-22 div.sk-label:hover label.sk-toggleable__label {background-color: #d4ebff;}#sk-container-id-22 div.sk-serial::before {content: \"\";position: absolute;border-left: 1px solid gray;box-sizing: border-box;top: 0;bottom: 0;left: 50%;z-index: 0;}#sk-container-id-22 div.sk-serial {display: flex;flex-direction: column;align-items: center;background-color: white;padding-right: 0.2em;padding-left: 0.2em;position: relative;}#sk-container-id-22 div.sk-item {position: relative;z-index: 1;}#sk-container-id-22 div.sk-parallel {display: flex;align-items: stretch;justify-content: center;background-color: white;position: relative;}#sk-container-id-22 div.sk-item::before, #sk-container-id-22 div.sk-parallel-item::before {content: \"\";position: absolute;border-left: 1px solid gray;box-sizing: border-box;top: 0;bottom: 0;left: 50%;z-index: -1;}#sk-container-id-22 div.sk-parallel-item {display: flex;flex-direction: column;z-index: 1;position: relative;background-color: white;}#sk-container-id-22 div.sk-parallel-item:first-child::after {align-self: flex-end;width: 50%;}#sk-container-id-22 div.sk-parallel-item:last-child::after {align-self: flex-start;width: 50%;}#sk-container-id-22 div.sk-parallel-item:only-child::after {width: 0;}#sk-container-id-22 div.sk-dashed-wrapped {border: 1px dashed gray;margin: 0 0.4em 0.5em 0.4em;box-sizing: border-box;padding-bottom: 0.4em;background-color: white;}#sk-container-id-22 div.sk-label label {font-family: monospace;font-weight: bold;display: inline-block;line-height: 1.2em;}#sk-container-id-22 div.sk-label-container {text-align: center;}#sk-container-id-22 div.sk-container {/* jupyter's `normalize.less` sets `[hidden] { display: none; }` but bootstrap.min.css set `[hidden] { display: none !important; }` so we also need the `!important` here to be able to override the default hidden behavior on the sphinx rendered scikit-learn.org. See: https://github.com/scikit-learn/scikit-learn/issues/21755 */display: inline-block !important;position: relative;}#sk-container-id-22 div.sk-text-repr-fallback {display: none;}</style><div id=\"sk-container-id-22\" class=\"sk-top-container\"><div class=\"sk-text-repr-fallback\"><pre>StandardScaler()</pre><b>In a Jupyter environment, please rerun this cell to show the HTML representation or trust the notebook. <br />On GitHub, the HTML representation is unable to render, please try loading this page with nbviewer.org.</b></div><div class=\"sk-container\" hidden><div class=\"sk-item\"><div class=\"sk-estimator sk-toggleable\"><input class=\"sk-toggleable__control sk-hidden--visually\" id=\"sk-estimator-id-22\" type=\"checkbox\" checked><label for=\"sk-estimator-id-22\" class=\"sk-toggleable__label sk-toggleable__label-arrow\">StandardScaler</label><div class=\"sk-toggleable__content\"><pre>StandardScaler()</pre></div></div></div></div></div>"
      ],
      "text/plain": [
       "StandardScaler()"
      ]
     },
     "execution_count": 175,
     "metadata": {},
     "output_type": "execute_result"
    }
   ],
   "source": [
    "scaler = StandardScaler()\n",
    "scaler.fit(x)"
   ]
  },
  {
   "cell_type": "code",
   "execution_count": 176,
   "id": "ceaa8440",
   "metadata": {},
   "outputs": [
    {
     "data": {
      "text/plain": [
       "array([[ 0.28391274, -0.68707669,  0.33212681,  1.07024813,  1.56406898,\n",
       "        -1.24914798, -0.94649322, -1.1751393 ],\n",
       "       [-0.22918976, -0.2085646 ,  0.0685341 ,  0.99965129, -0.78698407,\n",
       "        -1.18319508, -1.06877916, -1.1751393 ],\n",
       "       [ 0.65269244,  0.04549778,  0.33212681,  1.07024813,  0.5741519 ,\n",
       "        -1.11724217, -0.70192133, -1.1751393 ],\n",
       "       [-1.05684893,  1.55650472,  0.59571952,  0.99965129, -1.52942188,\n",
       "        -0.98533637, -0.57963538, -1.1751393 ],\n",
       "       [-1.31530302, -0.32831155,  1.12290493,  0.99965129,  0.07919337,\n",
       "        -1.18319508, -0.94649322, -1.1751393 ],\n",
       "       [-1.01969662,  0.31975979,  1.12290493,  0.76432848, -0.78698407,\n",
       "        -0.98533637, -1.06877916, -1.1751393 ],\n",
       "       [-0.26745238,  1.95999211,  1.91368305,  1.23497409, -1.40568225,\n",
       "        -1.18319508, -0.70192133, -1.1751393 ],\n",
       "       [-0.35773395,  2.67575634,  1.38649764,  0.99965129, -1.52942188,\n",
       "        -1.18319508, -0.57963538, -1.1751393 ],\n",
       "       [-0.22823271,  0.84231032,  1.12290493,  1.23497409, -1.15820298,\n",
       "        -1.11724217, -0.57963538, -1.1751393 ],\n",
       "       [-0.84073508,  3.51840905,  1.12290493,  0.99965129, -1.52942188,\n",
       "        -1.18319508, -0.57963538, -1.1751393 ],\n",
       "       [-1.12887737,  0.80727461,  1.38649764,  1.23497409, -1.52942188,\n",
       "        -1.05128927, -0.57963538, -1.1751393 ],\n",
       "       [ 0.79080717, -0.28353578, -0.72224402,  0.99965129, -1.52942188,\n",
       "        -1.24914798, -0.57963538,  0.85096294],\n",
       "       [-0.94080955, -0.54766527,  0.33212681, -0.41228556, -0.66324444,\n",
       "         0.79539201, -0.45734944,  0.85096294],\n",
       "       [-0.6171511 , -0.53242486,  0.33212681, -0.17696275,  0.45041227,\n",
       "         0.7294391 , -0.33506349,  0.85096294],\n",
       "       [ 0.17551777,  1.10928215,  1.12290493,  1.23497409, -1.40568225,\n",
       "        -1.18319508, -0.70192133, -1.1751393 ],\n",
       "       [ 0.60483224, -0.3408345 ,  1.12290493,  0.99965129,  0.07919337,\n",
       "        -0.85343056, -0.94649322, -1.1751393 ],\n",
       "       [-0.04764553, -0.21435037,  1.12290493,  0.05836006,  0.07919337,\n",
       "        -0.85343056, -0.94649322, -1.1751393 ],\n",
       "       [-0.57254368, -0.50477448, -3.62176379, -2.29486802,  0.07919337,\n",
       "        -0.19390153, -0.45734944, -1.1751393 ],\n",
       "       [-0.39093635, -0.50243758, -1.51302214, -0.41228556, -0.66324444,\n",
       "         0.79539201, -0.45734944,  0.85096294],\n",
       "       [-0.61442868, -0.61224823, -0.72224402, -0.17696275,  0.45041227,\n",
       "         0.7294391 , -0.33506349,  0.85096294],\n",
       "       [ 0.05600324, -0.55005569,  0.33212681, -0.17696275,  0.45041227,\n",
       "         0.46562749, -0.33506349,  0.85096294],\n",
       "       [ 2.10096566, -0.54919942, -0.1950586 , -0.17696275,  0.45041227,\n",
       "         0.7294391 , -0.33506349,  0.85096294],\n",
       "       [-0.13880903,  3.35719248,  0.59571952,  0.99965129, -1.52942188,\n",
       "        -0.98533637, -0.57963538, -1.1751393 ],\n",
       "       [-0.59815727, -0.15765817,  0.59571952,  0.99965129, -1.52942188,\n",
       "        -0.98533637, -0.57963538, -1.1751393 ],\n",
       "       [-1.06528663,  0.55244516,  0.59571952,  0.99965129, -1.52942188,\n",
       "        -0.98533637, -0.57963538, -1.1751393 ],\n",
       "       [-0.04360697, -0.55178012, -0.72224402, -0.17696275,  0.45041227,\n",
       "         0.7294391 , -0.33506349,  0.85096294],\n",
       "       [ 0.21608212, -0.49844165, -0.1950586 , -0.17696275,  0.45041227,\n",
       "         0.7294391 , -0.33506349,  0.85096294],\n",
       "       [-0.84870552, -0.51986029, -1.24942943, -2.05954521,  0.45041227,\n",
       "         0.92729781, -0.33506349,  0.85096294],\n",
       "       [-0.20080718, -0.5303377 , -1.24942943, -2.05954521,  0.45041227,\n",
       "         0.92729781, -0.33506349,  0.85096294],\n",
       "       [-0.52976323, -0.04746101,  1.91368305,  1.23497409, -1.40568225,\n",
       "        -1.18319508, -0.70192133, -1.1751393 ],\n",
       "       [-0.75242922, -0.13333773, -0.72224402,  0.99965129, -1.52942188,\n",
       "        -1.24914798, -0.57963538, -1.1751393 ],\n",
       "       [ 1.71704287, -0.25641462, -0.1950586 , -0.17696275,  0.45041227,\n",
       "        -0.85343056, -0.33506349,  0.85096294],\n",
       "       [ 0.20809966,  0.36722925, -0.1950586 , -0.17696275,  0.45041227,\n",
       "        -0.52366605, -0.33506349, -1.1751393 ],\n",
       "       [ 0.14795252,  0.60037248, -0.1950586 ,  0.76432848,  0.45041227,\n",
       "        -0.85343056, -0.33506349,  0.85096294],\n",
       "       [-0.176669  , -0.5552944 , -1.24942943, -2.05954521,  0.45041227,\n",
       "         0.92729781, -0.33506349,  0.85096294],\n",
       "       [-0.21586463, -0.54965729, -1.24942943, -2.05954521,  0.45041227,\n",
       "         0.92729781, -0.33506349,  0.85096294],\n",
       "       [ 1.27438974, -0.52057385, -0.72224402, -0.64760837,  1.06911044,\n",
       "         1.12515652,  1.74379758,  0.85096294],\n",
       "       [-0.64507544, -0.66662731, -0.98583672, -0.64760837,  1.06911044,\n",
       "         1.12515652,  1.74379758,  0.85096294],\n",
       "       [ 0.97839571, -0.52034194, -0.72224402, -0.64760837,  1.06911044,\n",
       "         1.12515652,  1.74379758,  0.85096294],\n",
       "       [-0.18883274, -0.59928526, -0.72224402, -0.64760837,  1.06911044,\n",
       "         1.12515652,  1.74379758,  0.85096294],\n",
       "       [-0.03933704, -0.5497227 ,  0.59571952, -0.64760837,  1.06911044,\n",
       "         1.12515652,  1.74379758,  0.85096294],\n",
       "       [ 0.20464555, -0.57614813, -0.72224402, -0.64760837,  1.06911044,\n",
       "         1.12515652,  1.74379758,  0.85096294],\n",
       "       [ 0.16915193, -0.51269498, -0.1950586 , -0.64760837,  1.06911044,\n",
       "         1.12515652,  1.74379758,  0.85096294],\n",
       "       [ 0.14584309, -0.54474563, -0.72224402, -0.64760837,  1.06911044,\n",
       "         1.12515652,  1.74379758,  0.85096294],\n",
       "       [ 0.371846  , -0.62148286, -0.1950586 , -0.64760837,  1.06911044,\n",
       "         1.12515652,  1.74379758,  0.85096294],\n",
       "       [-0.62169298, -0.64679634,  0.0685341 , -0.64760837,  1.06911044,\n",
       "         1.12515652,  1.74379758,  0.85096294],\n",
       "       [ 5.07480057, -0.65829651, -0.1950586 , -0.17696275,  0.45041227,\n",
       "         0.7294391 , -0.33506349,  0.85096294],\n",
       "       [ 0.20464555, -0.57614813, -0.1950586 , -0.17696275,  0.45041227,\n",
       "         0.7294391 , -0.33506349,  0.85096294],\n",
       "       [ 0.16915193, -0.51269498,  0.0685341 , -0.64760837,  1.06911044,\n",
       "         1.12515652,  1.74379758,  0.85096294],\n",
       "       [ 0.14584309, -0.54474563,  0.0685341 , -0.64760837,  1.06911044,\n",
       "         1.12515652,  1.74379758,  0.85096294]])"
      ]
     },
     "execution_count": 176,
     "metadata": {},
     "output_type": "execute_result"
    }
   ],
   "source": [
    "standard_data = scaler.transform(x)\n",
    "standard_data"
   ]
  },
  {
   "cell_type": "code",
   "execution_count": 177,
   "id": "3193cfa2",
   "metadata": {},
   "outputs": [],
   "source": [
    "x = standard_data\n",
    "y = data['outcome']\n"
   ]
  },
  {
   "cell_type": "code",
   "execution_count": 178,
   "id": "10427ed6",
   "metadata": {},
   "outputs": [
    {
     "name": "stdout",
     "output_type": "stream",
     "text": [
      "(40, 8) (40,) (10, 8) (10,)\n"
     ]
    }
   ],
   "source": [
    "x_train, x_test, y_train, y_test = train_test_split(x, y, test_size=0.2, stratify=y, random_state=2)\n",
    "\n",
    "print(x_train.shape, y_train.shape, x_test.shape, y_test.shape)"
   ]
  },
  {
   "cell_type": "markdown",
   "id": "07ab7479",
   "metadata": {},
   "source": [
    "# # Trainning The model"
   ]
  },
  {
   "cell_type": "code",
   "execution_count": 179,
   "id": "10edd03c",
   "metadata": {},
   "outputs": [
    {
     "data": {
      "text/html": [
       "<style>#sk-container-id-23 {color: black;background-color: white;}#sk-container-id-23 pre{padding: 0;}#sk-container-id-23 div.sk-toggleable {background-color: white;}#sk-container-id-23 label.sk-toggleable__label {cursor: pointer;display: block;width: 100%;margin-bottom: 0;padding: 0.3em;box-sizing: border-box;text-align: center;}#sk-container-id-23 label.sk-toggleable__label-arrow:before {content: \"▸\";float: left;margin-right: 0.25em;color: #696969;}#sk-container-id-23 label.sk-toggleable__label-arrow:hover:before {color: black;}#sk-container-id-23 div.sk-estimator:hover label.sk-toggleable__label-arrow:before {color: black;}#sk-container-id-23 div.sk-toggleable__content {max-height: 0;max-width: 0;overflow: hidden;text-align: left;background-color: #f0f8ff;}#sk-container-id-23 div.sk-toggleable__content pre {margin: 0.2em;color: black;border-radius: 0.25em;background-color: #f0f8ff;}#sk-container-id-23 input.sk-toggleable__control:checked~div.sk-toggleable__content {max-height: 200px;max-width: 100%;overflow: auto;}#sk-container-id-23 input.sk-toggleable__control:checked~label.sk-toggleable__label-arrow:before {content: \"▾\";}#sk-container-id-23 div.sk-estimator input.sk-toggleable__control:checked~label.sk-toggleable__label {background-color: #d4ebff;}#sk-container-id-23 div.sk-label input.sk-toggleable__control:checked~label.sk-toggleable__label {background-color: #d4ebff;}#sk-container-id-23 input.sk-hidden--visually {border: 0;clip: rect(1px 1px 1px 1px);clip: rect(1px, 1px, 1px, 1px);height: 1px;margin: -1px;overflow: hidden;padding: 0;position: absolute;width: 1px;}#sk-container-id-23 div.sk-estimator {font-family: monospace;background-color: #f0f8ff;border: 1px dotted black;border-radius: 0.25em;box-sizing: border-box;margin-bottom: 0.5em;}#sk-container-id-23 div.sk-estimator:hover {background-color: #d4ebff;}#sk-container-id-23 div.sk-parallel-item::after {content: \"\";width: 100%;border-bottom: 1px solid gray;flex-grow: 1;}#sk-container-id-23 div.sk-label:hover label.sk-toggleable__label {background-color: #d4ebff;}#sk-container-id-23 div.sk-serial::before {content: \"\";position: absolute;border-left: 1px solid gray;box-sizing: border-box;top: 0;bottom: 0;left: 50%;z-index: 0;}#sk-container-id-23 div.sk-serial {display: flex;flex-direction: column;align-items: center;background-color: white;padding-right: 0.2em;padding-left: 0.2em;position: relative;}#sk-container-id-23 div.sk-item {position: relative;z-index: 1;}#sk-container-id-23 div.sk-parallel {display: flex;align-items: stretch;justify-content: center;background-color: white;position: relative;}#sk-container-id-23 div.sk-item::before, #sk-container-id-23 div.sk-parallel-item::before {content: \"\";position: absolute;border-left: 1px solid gray;box-sizing: border-box;top: 0;bottom: 0;left: 50%;z-index: -1;}#sk-container-id-23 div.sk-parallel-item {display: flex;flex-direction: column;z-index: 1;position: relative;background-color: white;}#sk-container-id-23 div.sk-parallel-item:first-child::after {align-self: flex-end;width: 50%;}#sk-container-id-23 div.sk-parallel-item:last-child::after {align-self: flex-start;width: 50%;}#sk-container-id-23 div.sk-parallel-item:only-child::after {width: 0;}#sk-container-id-23 div.sk-dashed-wrapped {border: 1px dashed gray;margin: 0 0.4em 0.5em 0.4em;box-sizing: border-box;padding-bottom: 0.4em;background-color: white;}#sk-container-id-23 div.sk-label label {font-family: monospace;font-weight: bold;display: inline-block;line-height: 1.2em;}#sk-container-id-23 div.sk-label-container {text-align: center;}#sk-container-id-23 div.sk-container {/* jupyter's `normalize.less` sets `[hidden] { display: none; }` but bootstrap.min.css set `[hidden] { display: none !important; }` so we also need the `!important` here to be able to override the default hidden behavior on the sphinx rendered scikit-learn.org. See: https://github.com/scikit-learn/scikit-learn/issues/21755 */display: inline-block !important;position: relative;}#sk-container-id-23 div.sk-text-repr-fallback {display: none;}</style><div id=\"sk-container-id-23\" class=\"sk-top-container\"><div class=\"sk-text-repr-fallback\"><pre>SVC(kernel=&#x27;linear&#x27;)</pre><b>In a Jupyter environment, please rerun this cell to show the HTML representation or trust the notebook. <br />On GitHub, the HTML representation is unable to render, please try loading this page with nbviewer.org.</b></div><div class=\"sk-container\" hidden><div class=\"sk-item\"><div class=\"sk-estimator sk-toggleable\"><input class=\"sk-toggleable__control sk-hidden--visually\" id=\"sk-estimator-id-23\" type=\"checkbox\" checked><label for=\"sk-estimator-id-23\" class=\"sk-toggleable__label sk-toggleable__label-arrow\">SVC</label><div class=\"sk-toggleable__content\"><pre>SVC(kernel=&#x27;linear&#x27;)</pre></div></div></div></div></div>"
      ],
      "text/plain": [
       "SVC(kernel='linear')"
      ]
     },
     "execution_count": 179,
     "metadata": {},
     "output_type": "execute_result"
    }
   ],
   "source": [
    "classifier = svm.SVC(kernel='linear')\n",
    "classifier.fit(x_train, y_train)"
   ]
  },
  {
   "cell_type": "markdown",
   "id": "a91d58b5",
   "metadata": {},
   "source": [
    "# Model Evaluation and Validation"
   ]
  },
  {
   "cell_type": "code",
   "execution_count": 180,
   "id": "50f48647",
   "metadata": {},
   "outputs": [
    {
     "name": "stdout",
     "output_type": "stream",
     "text": [
      "0.95\n"
     ]
    }
   ],
   "source": [
    "# accuracy_score of the svm classifier\n",
    "\n",
    "x_train_predictions = classifier.predict(x_train)\n",
    "\n",
    "trainning_data_accuracy = accuracy_score(x_train_predictions, y_train)\n",
    "\n",
    "print(trainning_data_accuracy)"
   ]
  },
  {
   "cell_type": "markdown",
   "id": "63937266",
   "metadata": {},
   "source": [
    "# Making a predictive system"
   ]
  },
  {
   "cell_type": "code",
   "execution_count": 181,
   "id": "19349fff",
   "metadata": {},
   "outputs": [
    {
     "name": "stdout",
     "output_type": "stream",
     "text": [
      "[[-0.94080955 -0.54766527  0.33212681 -0.41228556 -0.66324444  0.79539201\n",
      "  -0.45734944  0.85096294]]\n"
     ]
    },
    {
     "name": "stderr",
     "output_type": "stream",
     "text": [
      "/home/sydney/.local/lib/python3.10/site-packages/sklearn/base.py:409: UserWarning: X does not have valid feature names, but StandardScaler was fitted with feature names\n",
      "  warnings.warn(\n"
     ]
    }
   ],
   "source": [
    "input_data = (393177,2564.4,32,18,46,35,10,1,)\n",
    "\n",
    "# changing the inputs to numpy data_array\n",
    "input_data_as_numpy_array = np.asanyarray(input_data)\n",
    "\n",
    "# Reshape data in the array since we are predicting data of only one instance\n",
    "reshaped_data = input_data_as_numpy_array.reshape(1, -1)\n",
    "\n",
    "#  Standardize the input data\n",
    "std_data = scaler.transform(reshaped_data)\n",
    "\n",
    "print(std_data)"
   ]
  },
  {
   "cell_type": "code",
   "execution_count": 182,
   "id": "19527ed7",
   "metadata": {},
   "outputs": [
    {
     "name": "stdout",
     "output_type": "stream",
     "text": [
      "[0]\n"
     ]
    }
   ],
   "source": [
    "predictions = classifier.predict(std_data)\n",
    "print(predictions)"
   ]
  },
  {
   "cell_type": "markdown",
   "id": "22ea2a81",
   "metadata": {},
   "source": [
    "# Creating a .sav File to save our model\n"
   ]
  },
  {
   "cell_type": "code",
   "execution_count": 183,
   "id": "f01a058f",
   "metadata": {},
   "outputs": [],
   "source": [
    "# Naming the file as hunger_predictor\n",
    "\n",
    "file_name = 'hunger_predictor'\n",
    "saved_model = joblib.dump(classifier, file_name)"
   ]
  },
  {
   "cell_type": "markdown",
   "id": "6907909f",
   "metadata": {},
   "source": [
    "# That is the last procedure of data analysis, building prediction model, evaluating the model"
   ]
  },
  {
   "cell_type": "code",
   "execution_count": null,
   "id": "a81d8ac6",
   "metadata": {},
   "outputs": [],
   "source": [
    "# The Remaining part is now implementing the system with the SVM classifer\n",
    "# to make prediction in real web application."
   ]
  }
 ],
 "metadata": {
  "kernelspec": {
   "display_name": "Python 3 (ipykernel)",
   "language": "python",
   "name": "python3"
  },
  "language_info": {
   "codemirror_mode": {
    "name": "ipython",
    "version": 3
   },
   "file_extension": ".py",
   "mimetype": "text/x-python",
   "name": "python",
   "nbconvert_exporter": "python",
   "pygments_lexer": "ipython3",
   "version": "3.10.7"
  }
 },
 "nbformat": 4,
 "nbformat_minor": 5
}
